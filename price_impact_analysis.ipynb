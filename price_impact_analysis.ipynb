{
 "cells": [
  {
   "cell_type": "markdown",
   "id": "8fc9d97c",
   "metadata": {},
   "source": [
    "# Price impact analysis"
   ]
  },
  {
   "cell_type": "code",
   "execution_count": null,
   "id": "38a55836",
   "metadata": {},
   "outputs": [],
   "source": []
  }
 ],
 "metadata": {
  "language_info": {
   "name": "python"
  }
 },
 "nbformat": 4,
 "nbformat_minor": 5
}
