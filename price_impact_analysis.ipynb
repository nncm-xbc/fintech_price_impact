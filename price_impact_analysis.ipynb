{
 "cells": [
  {
   "cell_type": "markdown",
   "id": "ea8ba4aa",
   "metadata": {},
   "source": [
    "# From Square-Root Law to Dynamic Trade Effects"
   ]
  },
  {
   "cell_type": "markdown",
   "id": "90504d2c",
   "metadata": {},
   "source": [
    "## 1. The dataset\n",
    "\n",
    "From binance cryptocurrency api via the binance-LOB repository (https://github.com/pfei-sa/binance-LOB/tree/main)\n",
    "\n",
    "Quotes data with a depth of 100 into the LOB timestamp, ask price, ask volume, bid price, bid volume, midpoint, spread\n",
    "\n",
    "Trades data withtimestamp, price, volume, trade sign (-1 = sell, 1 = buy)"
   ]
  },
  {
   "cell_type": "code",
   "execution_count": null,
   "id": "79eb4bef",
   "metadata": {},
   "outputs": [
    {
     "name": "stdout",
     "output_type": "stream",
     "text": [
      "[]\n"
     ]
    }
   ],
   "source": [
    "# Fetch LOB data from Binance \n",
    "# https://github.com/pfei-sa/binance-LOB.git\n",
    "\n",
    "import os\n",
    "os.chdir('/home/smn/repos/fintech_price_impact/binance-LOB/')\n",
    "from replay import orderbook_generator, get_snapshots_update_ids\n",
    "import pandas as pd\n",
    "import numpy as np\n",
    "\n",
    "snapshot_ids = get_snapshots_update_ids(\"BTCUSDT\")\n",
    "\n",
    "lob_depth = 100\n",
    "batch_size = 1000\n",
    "batch_data = []\n",
    "\n",
    "# Build db structure from order book \n",
    "# Each iter is a new row.\n",
    "for orderbook in orderbook_generator(0, \"BTCUSDT\", block_size=5000):\n",
    "\n",
    "    timestamp = orderbook.timestamp\n",
    "\n",
    "    asks = orderbook.asks\n",
    "    ask_price = []\n",
    "    ask_volume = []\n",
    "    for key, value in asks.items():\n",
    "        ask_price.append(key)\n",
    "        ask_volume.append(value)\n",
    "\n",
    "    bid_price = []\n",
    "    bid_volume = []\n",
    "    bids = orderbook.bids\n",
    "    for key, value in bids.items():\n",
    "        bid_price.append(key)\n",
    "        bid_volume.append(value)\n",
    "\n",
    "    best_ask = ask_price[0]\n",
    "    best_bid = bid_price[0]\n",
    "\n",
    "    row = {'timestamp': timestamp}\n",
    "    for i in range(len(ask_price)):\n",
    "        row[f'ask_price_depth_{i}'] = ask_price[i]\n",
    "        row[f'ask_volume_depth_{i}'] = ask_volume[i]\n",
    "\n",
    "    if len(ask_price) > lob_depth:\n",
    "        ask_price = ask_price[:lob_depth]\n",
    "        ask_volume = ask_volume[:lob_depth]\n",
    "    else:\n",
    "        while len(ask_price)<lob_depth:\n",
    "            ask_price.append(np.nan)\n",
    "\n",
    "    for i in range(len(bid_price)):\n",
    "        row[f'bid_price_depth_{i}'] = bid_price[i]\n",
    "        row[f'bid_volume_depth_{i}'] = bid_volume[i]\n",
    "    row['midpoint'] = (best_ask + best_bid) / 2\n",
    "    row['spread'] = best_ask - best_bid\n",
    "\n",
    "    if len(bid_price) > lob_depth:\n",
    "        bid_price = bid_price[:lob_depth]\n",
    "        bid_volume = bid_volume[:lob_depth]\n",
    "    else:\n",
    "        while len(bid_price)<lob_depth:\n",
    "            bid_price.append(np.nan)\n",
    "    \n",
    "    batch_data.append(row)\n",
    "\n",
    "    if len(batch_data) >= batch_size:\n",
    "        batch_df = pd.DataFrame(batch_data)\n",
    "        batch_df.to_csv(f'batch_{i//batch_size}.csv', index=False)\n",
    "        batch_data = []"
   ]
  },
  {
   "cell_type": "code",
   "execution_count": 5,
   "id": "134e6850",
   "metadata": {},
   "outputs": [
    {
     "data": {
      "text/html": [
       "<div>\n",
       "<style scoped>\n",
       "    .dataframe tbody tr th:only-of-type {\n",
       "        vertical-align: middle;\n",
       "    }\n",
       "\n",
       "    .dataframe tbody tr th {\n",
       "        vertical-align: top;\n",
       "    }\n",
       "\n",
       "    .dataframe thead th {\n",
       "        text-align: right;\n",
       "    }\n",
       "</style>\n",
       "<table border=\"1\" class=\"dataframe\">\n",
       "  <thead>\n",
       "    <tr style=\"text-align: right;\">\n",
       "      <th></th>\n",
       "      <th>timestamp</th>\n",
       "      <th>trade_price</th>\n",
       "      <th>trade_volume</th>\n",
       "      <th>trade_sign</th>\n",
       "      <th>update_id</th>\n",
       "    </tr>\n",
       "  </thead>\n",
       "  <tbody>\n",
       "    <tr>\n",
       "      <th>0</th>\n",
       "      <td>2025-08-01 08:33:46.014</td>\n",
       "      <td>114474.37</td>\n",
       "      <td>3.48500</td>\n",
       "      <td>-1</td>\n",
       "      <td>73833846823</td>\n",
       "    </tr>\n",
       "    <tr>\n",
       "      <th>1</th>\n",
       "      <td>2025-08-01 08:33:46.014</td>\n",
       "      <td>114471.57</td>\n",
       "      <td>0.31466</td>\n",
       "      <td>-1</td>\n",
       "      <td>73833846823</td>\n",
       "    </tr>\n",
       "    <tr>\n",
       "      <th>2</th>\n",
       "      <td>2025-08-01 08:33:46.014</td>\n",
       "      <td>114471.32</td>\n",
       "      <td>0.00000</td>\n",
       "      <td>-1</td>\n",
       "      <td>73833846823</td>\n",
       "    </tr>\n",
       "    <tr>\n",
       "      <th>3</th>\n",
       "      <td>2025-08-01 08:33:46.014</td>\n",
       "      <td>114471.22</td>\n",
       "      <td>0.18010</td>\n",
       "      <td>-1</td>\n",
       "      <td>73833846823</td>\n",
       "    </tr>\n",
       "    <tr>\n",
       "      <th>4</th>\n",
       "      <td>2025-08-01 08:33:46.014</td>\n",
       "      <td>114471.02</td>\n",
       "      <td>0.00005</td>\n",
       "      <td>-1</td>\n",
       "      <td>73833846823</td>\n",
       "    </tr>\n",
       "  </tbody>\n",
       "</table>\n",
       "</div>"
      ],
      "text/plain": [
       "                timestamp  trade_price  trade_volume  trade_sign    update_id\n",
       "0 2025-08-01 08:33:46.014    114474.37       3.48500          -1  73833846823\n",
       "1 2025-08-01 08:33:46.014    114471.57       0.31466          -1  73833846823\n",
       "2 2025-08-01 08:33:46.014    114471.32       0.00000          -1  73833846823\n",
       "3 2025-08-01 08:33:46.014    114471.22       0.18010          -1  73833846823\n",
       "4 2025-08-01 08:33:46.014    114471.02       0.00005          -1  73833846823"
      ]
     },
     "execution_count": 5,
     "metadata": {},
     "output_type": "execute_result"
    }
   ],
   "source": [
    "from replay import diff_depth_stream_generator\n",
    "\n",
    "snapshot_ids = get_snapshots_update_ids(\"BTCUSDT\")\n",
    "\n",
    "trades = []\n",
    "\n",
    "for diff_data in diff_depth_stream_generator(0, 'BTCUSDT', block_size = 5000): \n",
    "    timestamp, first_update_id, final_update_id, diff_bids_volume, diff_bids_price, diff_asks_volume, diff_asks_price, symbol = diff_data\n",
    "\n",
    "    # BIDS\n",
    "    for price, quantity in zip(diff_bids_price, diff_bids_volume): \n",
    "        trades.append({\n",
    "            'timestamp': timestamp,\n",
    "            'trade_price': price,\n",
    "            'trade_volume': abs(quantity),\n",
    "            'trade_sign': -1,\n",
    "            'update_id': final_update_id\n",
    "        })\n",
    "\n",
    "    # ASKS\n",
    "    for price, quantity in zip(diff_asks_price, diff_asks_volume): \n",
    "        trades.append({\n",
    "            'timestamp': timestamp,\n",
    "            'trade_price': price,\n",
    "            'trade_volume': abs(quantity),\n",
    "            'trade_sign': 1,\n",
    "            'update_id': final_update_id\n",
    "        })\n",
    "\n",
    "trades_df = pd.DataFrame(trades)\n",
    "trades_df.to_csv(f'trades.csv', index=False)\n",
    "trades_df.head()\n"
   ]
  },
  {
   "cell_type": "markdown",
   "id": "675bcdc4",
   "metadata": {},
   "source": [
    "# Data analysis"
   ]
  },
  {
   "cell_type": "code",
   "execution_count": null,
   "id": "4d85d16e",
   "metadata": {},
   "outputs": [],
   "source": []
  },
  {
   "cell_type": "markdown",
   "id": "dfd707ae",
   "metadata": {},
   "source": [
    "## 1. Baseline Implementation\n",
    "- Square-Root Law: ΔP = Y σ√(Q/V)\n",
    "- Parameter estimation and statistical validation\n",
    "- Identify systematic deviations and failure modes"
   ]
  },
  {
   "cell_type": "code",
   "execution_count": null,
   "id": "9eff9cbd",
   "metadata": {},
   "outputs": [],
   "source": []
  },
  {
   "cell_type": "markdown",
   "id": "08506e3b",
   "metadata": {},
   "source": [
    "## 2. Traditional Model Extensions\n",
    "- Propagator Model: P(t) = ∑G(t-s)ε(s)\n",
    "- Temporal impact analysis (temporary vs permanent)\n",
    "- Trade information content effects"
   ]
  },
  {
   "cell_type": "code",
   "execution_count": null,
   "id": "79600a16",
   "metadata": {},
   "outputs": [],
   "source": []
  },
  {
   "cell_type": "markdown",
   "id": "605e52c9",
   "metadata": {},
   "source": [
    "## 3. ML Implementation\n",
    "- Features: Volatility metrics, volume patterns, spreads, order book imbalance, decay patterns from propagator analysis\n",
    "- Target: Direct price impact ΔP prediction\n",
    "- Models: Compare ML predictions vs Square-root law vs Propagator model"
   ]
  },
  {
   "cell_type": "code",
   "execution_count": null,
   "id": "a92947f3",
   "metadata": {},
   "outputs": [],
   "source": []
  },
  {
   "cell_type": "markdown",
   "id": "0de72236",
   "metadata": {},
   "source": [
    "## 4. Regime-Dependent Analysis\n",
    "- Identify market conditions where traditional models underperform\n",
    "- Cross-validation framework across different market regimes\n",
    "- Performance comparison metrics focusing on model failure cases"
   ]
  },
  {
   "cell_type": "code",
   "execution_count": null,
   "id": "44b08e46",
   "metadata": {},
   "outputs": [],
   "source": []
  }
 ],
 "metadata": {
  "kernelspec": {
   "display_name": "fintech",
   "language": "python",
   "name": "python3"
  },
  "language_info": {
   "codemirror_mode": {
    "name": "ipython",
    "version": 3
   },
   "file_extension": ".py",
   "mimetype": "text/x-python",
   "name": "python",
   "nbconvert_exporter": "python",
   "pygments_lexer": "ipython3",
   "version": "3.10.18"
  }
 },
 "nbformat": 4,
 "nbformat_minor": 5
}
